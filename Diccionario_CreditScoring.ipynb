{
  "nbformat": 4,
  "nbformat_minor": 0,
  "metadata": {
    "colab": {
      "provenance": [],
      "authorship_tag": "ABX9TyMjmXSa00wvbTAD39xkTFd0",
      "include_colab_link": true
    },
    "kernelspec": {
      "name": "python3",
      "display_name": "Python 3"
    },
    "language_info": {
      "name": "python"
    }
  },
  "cells": [
    {
      "cell_type": "markdown",
      "metadata": {
        "id": "view-in-github",
        "colab_type": "text"
      },
      "source": [
        "<a href=\"https://colab.research.google.com/github/AnndyLibeMoore/Credit-Scoring/blob/main/Diccionario_CreditScoring.ipynb\" target=\"_parent\"><img src=\"https://colab.research.google.com/assets/colab-badge.svg\" alt=\"Open In Colab\"/></a>"
      ]
    },
    {
      "cell_type": "markdown",
      "source": [
        "**status**: Estado del crédito, indicando la situación\n",
        "actual del mismo.\\\n",
        "**seniority:** Años de experiencia laboral del solicitante.\\\n",
        "**home**: Tipo de vivienda del solicitante.\\\n",
        "**time:** Plazo del préstamo en meses.\\\n",
        "**age:** Edad del solicitante.\\\n",
        "**marital**: Estado civil del solicitante.\\\n",
        "**records:** Historial de créditos previos del solicitante.\\\n",
        "**job:** Tipo de trabajo o categoría ocupacional.\\\n",
        "**expenses:** Gastos mensuales reportados.\\\n",
        "**income**: Ingresos mensuales del solicitante.\\\n",
        "**assets**: Valor de los ahorros o activos.\\\n",
        "**debt**: Obligaciones financieras actuales.\\\n",
        "**amount**: Monto solicitado en el préstamo.\\\n",
        "**price**: Prima o valor total a devolver por el crédito."
      ],
      "metadata": {
        "id": "Z4Q_GCGtRBqF"
      }
    }
  ]
}